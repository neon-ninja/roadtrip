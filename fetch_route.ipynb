{
 "cells": [
  {
   "cell_type": "code",
   "execution_count": 1,
   "metadata": {},
   "outputs": [
    {
     "data": {
      "text/html": [
       "<div>\n",
       "<style scoped>\n",
       "    .dataframe tbody tr th:only-of-type {\n",
       "        vertical-align: middle;\n",
       "    }\n",
       "\n",
       "    .dataframe tbody tr th {\n",
       "        vertical-align: top;\n",
       "    }\n",
       "\n",
       "    .dataframe thead th {\n",
       "        text-align: right;\n",
       "    }\n",
       "</style>\n",
       "<table border=\"1\" class=\"dataframe\">\n",
       "  <thead>\n",
       "    <tr style=\"text-align: right;\">\n",
       "      <th></th>\n",
       "      <th>name</th>\n",
       "      <th>date</th>\n",
       "      <th>lng</th>\n",
       "      <th>lat</th>\n",
       "      <th>geometry</th>\n",
       "    </tr>\n",
       "  </thead>\n",
       "  <tbody>\n",
       "    <tr>\n",
       "      <th>0</th>\n",
       "      <td>Papatoetoe</td>\n",
       "      <td>2024-09-29</td>\n",
       "      <td>174.855370</td>\n",
       "      <td>-36.977993</td>\n",
       "      <td>POINT (174.85537 -36.97799)</td>\n",
       "    </tr>\n",
       "    <tr>\n",
       "      <th>1</th>\n",
       "      <td>Taupo DeBretts</td>\n",
       "      <td>2024-10-01</td>\n",
       "      <td>176.099186</td>\n",
       "      <td>-38.703164</td>\n",
       "      <td>POINT (176.09919 -38.70316)</td>\n",
       "    </tr>\n",
       "    <tr>\n",
       "      <th>2</th>\n",
       "      <td>Ōtaki</td>\n",
       "      <td>2024-10-02</td>\n",
       "      <td>175.152154</td>\n",
       "      <td>-40.754474</td>\n",
       "      <td>POINT (175.15215 -40.75447)</td>\n",
       "    </tr>\n",
       "    <tr>\n",
       "      <th>3</th>\n",
       "      <td>Wellington TOP 10 Holiday Park</td>\n",
       "      <td>2024-10-07</td>\n",
       "      <td>174.909526</td>\n",
       "      <td>-41.236709</td>\n",
       "      <td>POINT (174.90953 -41.23671)</td>\n",
       "    </tr>\n",
       "    <tr>\n",
       "      <th>4</th>\n",
       "      <td>Taihape</td>\n",
       "      <td>2024-10-08</td>\n",
       "      <td>175.798334</td>\n",
       "      <td>-39.676280</td>\n",
       "      <td>POINT (175.79833 -39.67628)</td>\n",
       "    </tr>\n",
       "    <tr>\n",
       "      <th>5</th>\n",
       "      <td>Rydges Rotorua</td>\n",
       "      <td>2024-10-11</td>\n",
       "      <td>176.253875</td>\n",
       "      <td>-38.148658</td>\n",
       "      <td>POINT (176.25388 -38.14866)</td>\n",
       "    </tr>\n",
       "    <tr>\n",
       "      <th>6</th>\n",
       "      <td>Papatoetoe</td>\n",
       "      <td>2024-10-11</td>\n",
       "      <td>174.855370</td>\n",
       "      <td>-36.977993</td>\n",
       "      <td>POINT (174.85537 -36.97799)</td>\n",
       "    </tr>\n",
       "  </tbody>\n",
       "</table>\n",
       "</div>"
      ],
      "text/plain": [
       "                             name        date         lng        lat  \\\n",
       "0                      Papatoetoe  2024-09-29  174.855370 -36.977993   \n",
       "1                  Taupo DeBretts  2024-10-01  176.099186 -38.703164   \n",
       "2                           Ōtaki  2024-10-02  175.152154 -40.754474   \n",
       "3  Wellington TOP 10 Holiday Park  2024-10-07  174.909526 -41.236709   \n",
       "4                         Taihape  2024-10-08  175.798334 -39.676280   \n",
       "5                  Rydges Rotorua  2024-10-11  176.253875 -38.148658   \n",
       "6                      Papatoetoe  2024-10-11  174.855370 -36.977993   \n",
       "\n",
       "                      geometry  \n",
       "0  POINT (174.85537 -36.97799)  \n",
       "1  POINT (176.09919 -38.70316)  \n",
       "2  POINT (175.15215 -40.75447)  \n",
       "3  POINT (174.90953 -41.23671)  \n",
       "4  POINT (175.79833 -39.67628)  \n",
       "5  POINT (176.25388 -38.14866)  \n",
       "6  POINT (174.85537 -36.97799)  "
      ]
     },
     "execution_count": 1,
     "metadata": {},
     "output_type": "execute_result"
    }
   ],
   "source": [
    "import pandas as pd\n",
    "import geopandas as gpd\n",
    "from shapely.geometry import LineString\n",
    "import requests\n",
    "df = pd.read_csv(\"trip.csv\")\n",
    "df = gpd.GeoDataFrame(df, geometry=gpd.points_from_xy(df.lng, df.lat), crs=4326)\n",
    "df"
   ]
  },
  {
   "cell_type": "code",
   "execution_count": 20,
   "metadata": {},
   "outputs": [
    {
     "data": {
      "text/plain": [
       "['Papatoetoe -> Taupo DeBretts',\n",
       " 'Taupo DeBretts -> Ōtaki',\n",
       " 'Ōtaki -> Wellington TOP 10 Holiday Park',\n",
       " 'Wellington TOP 10 Holiday Park -> Taihape',\n",
       " 'Taihape -> Rydges Rotorua',\n",
       " 'Rydges Rotorua -> Papatoetoe']"
      ]
     },
     "execution_count": 20,
     "metadata": {},
     "output_type": "execute_result"
    }
   ],
   "source": [
    "leg_names = []\n",
    "for i in range(len(df)-1):\n",
    "    leg_names.append(df.name[i] + \" -> \" + df.name[i+1])\n",
    "leg_names"
   ]
  },
  {
   "cell_type": "code",
   "execution_count": 2,
   "metadata": {},
   "outputs": [
    {
     "data": {
      "text/plain": [
       "'174.8553697,-36.9779932;176.0991857,-38.7031645;175.1521538,-40.7544744;174.9095263,-41.2367087;175.7983341,-39.6762799;176.2538754,-38.1486577;174.8553697,-36.9779932'"
      ]
     },
     "execution_count": 2,
     "metadata": {},
     "output_type": "execute_result"
    }
   ],
   "source": [
    "coords = \";\".join(df.lng.astype(str) + \",\" + df.lat.astype(str))\n",
    "coords"
   ]
  },
  {
   "cell_type": "code",
   "execution_count": 3,
   "metadata": {},
   "outputs": [
    {
     "data": {
      "text/plain": [
       "<Response [200]>"
      ]
     },
     "execution_count": 3,
     "metadata": {},
     "output_type": "execute_result"
    }
   ],
   "source": [
    "r = requests.get(\"http://router.project-osrm.org/route/v1/driving/\" + coords, params={\n",
    "    \"geometries\": \"geojson\",\n",
    "    \"steps\": \"true\",\n",
    "    \"annotations\": \"distance,duration\"\n",
    "})\n",
    "r"
   ]
  },
  {
   "cell_type": "code",
   "execution_count": 14,
   "metadata": {},
   "outputs": [
    {
     "name": "stdout",
     "output_type": "stream",
     "text": [
      "6\n"
     ]
    }
   ],
   "source": [
    "legs = r.json()[\"routes\"][0][\"legs\"]\n",
    "print(len(legs))\n",
    "parsed_legs = []\n",
    "for leg in legs:\n",
    "    leg_coords = []\n",
    "    for step in leg[\"steps\"]:\n",
    "        leg_coords.extend(step[\"geometry\"][\"coordinates\"])\n",
    "    parsed_legs.append({\"geometry\": LineString(leg_coords), \"duration\": leg[\"duration\"], \"distance\": leg[\"distance\"]})"
   ]
  },
  {
   "cell_type": "code",
   "execution_count": 21,
   "metadata": {},
   "outputs": [
    {
     "data": {
      "text/html": [
       "<div>\n",
       "<style scoped>\n",
       "    .dataframe tbody tr th:only-of-type {\n",
       "        vertical-align: middle;\n",
       "    }\n",
       "\n",
       "    .dataframe tbody tr th {\n",
       "        vertical-align: top;\n",
       "    }\n",
       "\n",
       "    .dataframe thead th {\n",
       "        text-align: right;\n",
       "    }\n",
       "</style>\n",
       "<table border=\"1\" class=\"dataframe\">\n",
       "  <thead>\n",
       "    <tr style=\"text-align: right;\">\n",
       "      <th></th>\n",
       "      <th>geometry</th>\n",
       "      <th>duration</th>\n",
       "      <th>distance</th>\n",
       "      <th>name</th>\n",
       "      <th>date</th>\n",
       "      <th>lng</th>\n",
       "      <th>lat</th>\n",
       "      <th>leg_name</th>\n",
       "    </tr>\n",
       "  </thead>\n",
       "  <tbody>\n",
       "    <tr>\n",
       "      <th>0</th>\n",
       "      <td>LINESTRING (174.85537 -36.978, 174.8565 -36.97...</td>\n",
       "      <td>11521.5</td>\n",
       "      <td>257697.4</td>\n",
       "      <td>Papatoetoe</td>\n",
       "      <td>2024-09-29</td>\n",
       "      <td>174.855370</td>\n",
       "      <td>-36.977993</td>\n",
       "      <td>Papatoetoe -&gt; Taupo DeBretts</td>\n",
       "    </tr>\n",
       "    <tr>\n",
       "      <th>1</th>\n",
       "      <td>LINESTRING (176.0992 -38.70316, 176.09916 -38....</td>\n",
       "      <td>17088.0</td>\n",
       "      <td>340726.9</td>\n",
       "      <td>Taupo DeBretts</td>\n",
       "      <td>2024-10-01</td>\n",
       "      <td>176.099186</td>\n",
       "      <td>-38.703164</td>\n",
       "      <td>Taupo DeBretts -&gt; Ōtaki</td>\n",
       "    </tr>\n",
       "    <tr>\n",
       "      <th>2</th>\n",
       "      <td>LINESTRING (175.15217 -40.75449, 175.1521 -40....</td>\n",
       "      <td>3673.4</td>\n",
       "      <td>69198.7</td>\n",
       "      <td>Ōtaki</td>\n",
       "      <td>2024-10-02</td>\n",
       "      <td>175.152154</td>\n",
       "      <td>-40.754474</td>\n",
       "      <td>Ōtaki -&gt; Wellington TOP 10 Holiday Park</td>\n",
       "    </tr>\n",
       "    <tr>\n",
       "      <th>3</th>\n",
       "      <td>LINESTRING (174.9095 -41.23673, 174.90947 -41....</td>\n",
       "      <td>11073.7</td>\n",
       "      <td>225119.6</td>\n",
       "      <td>Wellington TOP 10 Holiday Park</td>\n",
       "      <td>2024-10-07</td>\n",
       "      <td>174.909526</td>\n",
       "      <td>-41.236709</td>\n",
       "      <td>Wellington TOP 10 Holiday Park -&gt; Taihape</td>\n",
       "    </tr>\n",
       "    <tr>\n",
       "      <th>4</th>\n",
       "      <td>LINESTRING (175.79831 -39.67629, 175.7983 -39....</td>\n",
       "      <td>12997.3</td>\n",
       "      <td>279674.8</td>\n",
       "      <td>Taihape</td>\n",
       "      <td>2024-10-08</td>\n",
       "      <td>175.798334</td>\n",
       "      <td>-39.676280</td>\n",
       "      <td>Taihape -&gt; Rydges Rotorua</td>\n",
       "    </tr>\n",
       "    <tr>\n",
       "      <th>5</th>\n",
       "      <td>LINESTRING (176.25392 -38.14866, 176.25392 -38...</td>\n",
       "      <td>9707.1</td>\n",
       "      <td>211036.3</td>\n",
       "      <td>Rydges Rotorua</td>\n",
       "      <td>2024-10-11</td>\n",
       "      <td>176.253875</td>\n",
       "      <td>-38.148658</td>\n",
       "      <td>Rydges Rotorua -&gt; Papatoetoe</td>\n",
       "    </tr>\n",
       "  </tbody>\n",
       "</table>\n",
       "</div>"
      ],
      "text/plain": [
       "                                            geometry  duration  distance  \\\n",
       "0  LINESTRING (174.85537 -36.978, 174.8565 -36.97...   11521.5  257697.4   \n",
       "1  LINESTRING (176.0992 -38.70316, 176.09916 -38....   17088.0  340726.9   \n",
       "2  LINESTRING (175.15217 -40.75449, 175.1521 -40....    3673.4   69198.7   \n",
       "3  LINESTRING (174.9095 -41.23673, 174.90947 -41....   11073.7  225119.6   \n",
       "4  LINESTRING (175.79831 -39.67629, 175.7983 -39....   12997.3  279674.8   \n",
       "5  LINESTRING (176.25392 -38.14866, 176.25392 -38...    9707.1  211036.3   \n",
       "\n",
       "                             name        date         lng        lat  \\\n",
       "0                      Papatoetoe  2024-09-29  174.855370 -36.977993   \n",
       "1                  Taupo DeBretts  2024-10-01  176.099186 -38.703164   \n",
       "2                           Ōtaki  2024-10-02  175.152154 -40.754474   \n",
       "3  Wellington TOP 10 Holiday Park  2024-10-07  174.909526 -41.236709   \n",
       "4                         Taihape  2024-10-08  175.798334 -39.676280   \n",
       "5                  Rydges Rotorua  2024-10-11  176.253875 -38.148658   \n",
       "\n",
       "                                    leg_name  \n",
       "0               Papatoetoe -> Taupo DeBretts  \n",
       "1                    Taupo DeBretts -> Ōtaki  \n",
       "2    Ōtaki -> Wellington TOP 10 Holiday Park  \n",
       "3  Wellington TOP 10 Holiday Park -> Taihape  \n",
       "4                  Taihape -> Rydges Rotorua  \n",
       "5               Rydges Rotorua -> Papatoetoe  "
      ]
     },
     "execution_count": 21,
     "metadata": {},
     "output_type": "execute_result"
    }
   ],
   "source": [
    "legs = gpd.GeoDataFrame(parsed_legs, geometry=\"geometry\", crs=4326).merge(df.drop(columns=\"geometry\"), left_index=True, right_index=True)\n",
    "legs[\"leg_name\"] = leg_names\n",
    "legs"
   ]
  },
  {
   "cell_type": "code",
   "execution_count": 22,
   "metadata": {},
   "outputs": [],
   "source": [
    "legs.to_file(\"trip.geojson\", driver=\"GeoJSON\")"
   ]
  }
 ],
 "metadata": {
  "kernelspec": {
   "display_name": "Python 3",
   "language": "python",
   "name": "python3"
  },
  "language_info": {
   "codemirror_mode": {
    "name": "ipython",
    "version": 3
   },
   "file_extension": ".py",
   "mimetype": "text/x-python",
   "name": "python",
   "nbconvert_exporter": "python",
   "pygments_lexer": "ipython3",
   "version": "3.10.12"
  }
 },
 "nbformat": 4,
 "nbformat_minor": 2
}
